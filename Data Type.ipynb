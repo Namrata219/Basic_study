{
 "cells": [
  {
   "cell_type": "markdown",
   "id": "230dbf83",
   "metadata": {},
   "source": [
    "Variables can store data of different types, and different types can do different things.\n",
    "Python has the following data types built-in by default, in these categories:\n",
    "\n",
    "Text Type:\tstr\n",
    "\n",
    "Numeric Types:\tint, float, complex\n",
    "\n",
    "Sequence Types:\tlist, tuple, range\n",
    "\n",
    "Mapping Type:\tdict\n",
    "\n",
    "Set Types:\tset, frozenset\n",
    "\n",
    "Boolean Type:\tbool\n",
    "\n",
    "Binary Types:\tbytes, bytearray, memoryview"
   ]
  },
  {
   "cell_type": "code",
   "execution_count": 4,
   "id": "5fe88c62",
   "metadata": {},
   "outputs": [],
   "source": [
    "#setting up the example for each type data type"
   ]
  },
  {
   "cell_type": "markdown",
   "id": "476b307d",
   "metadata": {},
   "source": [
    "A string is a sequence of one or more characters (letters, numbers, symbols)\n",
    "\n",
    "Strings exist within either single quotes ' or double quotes \" or even triple quotes  ‘ ‘ ‘\n",
    "\n",
    "Strings are not understood by python, it is a message to the user in the user’s local language like Hindi, Marathi, Gujrathi."
   ]
  },
  {
   "cell_type": "code",
   "execution_count": 3,
   "id": "88ece1dd",
   "metadata": {},
   "outputs": [
    {
     "name": "stdout",
     "output_type": "stream",
     "text": [
      "Hello World\n",
      "<class 'str'>\n"
     ]
    }
   ],
   "source": [
    "x = str(\"Hello World\")\n",
    "print(x)\n",
    "print(type(x))"
   ]
  },
  {
   "cell_type": "markdown",
   "id": "ea58e7a4",
   "metadata": {},
   "source": [
    "Integers\n",
    "Integers are whole numbers that can be positive, negative, or 0.\n",
    "\n",
    "An integer is many times called an int."
   ]
  },
  {
   "cell_type": "code",
   "execution_count": 5,
   "id": "43fab88e",
   "metadata": {},
   "outputs": [
    {
     "name": "stdout",
     "output_type": "stream",
     "text": [
      "20\n",
      "<class 'int'>\n"
     ]
    }
   ],
   "source": [
    "x = int(20)\n",
    "print(x)\n",
    "print(type(x))"
   ]
  },
  {
   "cell_type": "markdown",
   "id": "a342dcc3",
   "metadata": {},
   "source": [
    "A float is a number with a decimal point.  "
   ]
  },
  {
   "cell_type": "code",
   "execution_count": 6,
   "id": "6fbba939",
   "metadata": {},
   "outputs": [
    {
     "name": "stdout",
     "output_type": "stream",
     "text": [
      "20.5\n",
      "<class 'float'>\n"
     ]
    }
   ],
   "source": [
    "x = float(20.5)\n",
    "print(x)\n",
    "print(type(x))"
   ]
  },
  {
   "cell_type": "markdown",
   "id": "d91aa225",
   "metadata": {},
   "source": [
    "Complex numbers are specified as \n",
    "real-part + imaginary-part j.\n",
    "\n",
    "Complex numbers are used for electrical signal processing, almost all of electrical appliances \n",
    "rely heavily on complex number calculations."
   ]
  },
  {
   "cell_type": "code",
   "execution_count": 8,
   "id": "e4376eda",
   "metadata": {},
   "outputs": [
    {
     "name": "stdout",
     "output_type": "stream",
     "text": [
      "(8+1j)\n",
      "<class 'complex'>\n"
     ]
    }
   ],
   "source": [
    "x = complex(8+1j)\n",
    "print(x)\n",
    "print(type(x))"
   ]
  },
  {
   "cell_type": "code",
   "execution_count": 18,
   "id": "bc34ccfe",
   "metadata": {},
   "outputs": [],
   "source": [
    "#booleaN DATA type return True and False the value are respresented by its captial intial. "
   ]
  },
  {
   "cell_type": "code",
   "execution_count": 19,
   "id": "15e05f0f",
   "metadata": {},
   "outputs": [
    {
     "name": "stdout",
     "output_type": "stream",
     "text": [
      "True\n",
      "<class 'bool'>\n"
     ]
    }
   ],
   "source": [
    "x = bool(5)\n",
    "print(x)\n",
    "print(type(x))"
   ]
  },
  {
   "cell_type": "code",
   "execution_count": 27,
   "id": "d568ef05",
   "metadata": {},
   "outputs": [
    {
     "name": "stdout",
     "output_type": "stream",
     "text": [
      "False\n",
      "<class 'bool'>\n"
     ]
    }
   ],
   "source": [
    "y=8\n",
    "x =-5\n",
    "z= x == y\n",
    "print(z)\n",
    "print(type(z))"
   ]
  },
  {
   "cell_type": "markdown",
   "id": "f599a669",
   "metadata": {},
   "source": [
    "A list refers to a collection of elements\n",
    "\n",
    "The elements of a list do not all have to be of the same data type.\n",
    "\n",
    "A list is an ordered sequence of data."
   ]
  },
  {
   "cell_type": "code",
   "execution_count": 28,
   "id": "ab11dbc8",
   "metadata": {},
   "outputs": [],
   "source": [
    "#To create a list we can directly use the square brackets and place the elements inside it."
   ]
  },
  {
   "cell_type": "code",
   "execution_count": 47,
   "id": "44fa1eff",
   "metadata": {},
   "outputs": [
    {
     "name": "stdout",
     "output_type": "stream",
     "text": [
      "['apple', 'mango']\n",
      "<class 'list'>\n"
     ]
    }
   ],
   "source": [
    "l1=['apple','mango']\n",
    "l1\n",
    "print(l1)\n",
    "print(type(l1))"
   ]
  },
  {
   "cell_type": "markdown",
   "id": "783ed3e6",
   "metadata": {},
   "source": [
    "example = [] # empty list\n",
    "\n",
    "example = list() # empty list\n",
    "\n",
    "example = [1,2,3] # list with three elements\n",
    "\n",
    "example = [0, \"zero\"] # elements can be of mixed types"
   ]
  },
  {
   "cell_type": "code",
   "execution_count": 30,
   "id": "4f2276f5",
   "metadata": {},
   "outputs": [],
   "source": [
    "#Alternative"
   ]
  },
  {
   "cell_type": "code",
   "execution_count": 48,
   "id": "58792513",
   "metadata": {},
   "outputs": [
    {
     "name": "stdout",
     "output_type": "stream",
     "text": [
      "['a', 'p', 'p', 'l', 'e']\n",
      "<class 'list'>\n"
     ]
    }
   ],
   "source": [
    "l1=list('apple')\n",
    "print(l1)\n",
    "print(type(l1))"
   ]
  },
  {
   "cell_type": "code",
   "execution_count": 49,
   "id": "916a3a39",
   "metadata": {},
   "outputs": [
    {
     "name": "stdout",
     "output_type": "stream",
     "text": [
      "['apple', 'banana', 'cherry']\n",
      "<class 'list'>\n"
     ]
    }
   ],
   "source": [
    "x = list((\"apple\", \"banana\", \"cherry\"))\n",
    "x\n",
    "print(x)\n",
    "print(type(x))"
   ]
  },
  {
   "cell_type": "code",
   "execution_count": 50,
   "id": "eb4ce664",
   "metadata": {},
   "outputs": [
    {
     "name": "stdout",
     "output_type": "stream",
     "text": [
      "['apple', 'banana', 'cherry', 'namrata']\n",
      "<class 'list'>\n"
     ]
    }
   ],
   "source": [
    "x = list((\"apple\", \"banana\", \"cherry\",(\"namrata\")))\n",
    "print(x)\n",
    "print(type(x))"
   ]
  },
  {
   "cell_type": "code",
   "execution_count": 51,
   "id": "4597bf11",
   "metadata": {},
   "outputs": [
    {
     "name": "stdout",
     "output_type": "stream",
     "text": [
      "range(0, 3)\n",
      "<class 'range'>\n"
     ]
    }
   ],
   "source": [
    "x = range(3)\n",
    "print(x)\n",
    "print(type(x))"
   ]
  },
  {
   "cell_type": "markdown",
   "id": "94939e31",
   "metadata": {},
   "source": [
    "Indexing just means accessing elements.\n",
    "To access elements in a list, you can use the square bracket notation. There are many methods to access elements in python."
   ]
  },
  {
   "cell_type": "code",
   "execution_count": 61,
   "id": "74df675d",
   "metadata": {},
   "outputs": [
    {
     "name": "stdout",
     "output_type": "stream",
     "text": [
      "namrata\n"
     ]
    }
   ],
   "source": [
    "x = list((\"apple\", \"banana\", \"cherry\",(\"namrata\")))\n",
    "print(x[-1]) #indexing"
   ]
  },
  {
   "cell_type": "code",
   "execution_count": 62,
   "id": "a06274b3",
   "metadata": {},
   "outputs": [
    {
     "name": "stdout",
     "output_type": "stream",
     "text": [
      "apple\n"
     ]
    }
   ],
   "source": [
    "x = list((\"apple\", \"banana\", \"cherry\",(\"namrata\")))\n",
    "print(x[0]) #indexing"
   ]
  },
  {
   "cell_type": "code",
   "execution_count": 63,
   "id": "d9d9c8e9",
   "metadata": {},
   "outputs": [],
   "source": [
    "## Index & range with List "
   ]
  },
  {
   "cell_type": "markdown",
   "id": "5eafd705",
   "metadata": {},
   "source": [
    "Slicing : \n",
    "Slicing a list gives us another list, instead of a single element. Slicing is an incredibly useful feature in python, one that you will use a lot!\n",
    "\n",
    "A slice specifies a start index and an end index, and creates and returns a new list based on the indices. The indices are separated by a colon ':'. \n",
    "\n",
    "[start: stop : step]"
   ]
  },
  {
   "cell_type": "code",
   "execution_count": 68,
   "id": "85bb6859",
   "metadata": {},
   "outputs": [
    {
     "name": "stdout",
     "output_type": "stream",
     "text": [
      "['apple', 'banana', 'cherry', 'mango', 'tomato']\n",
      "['banana', 'cherry', 'mango', 'tomato']\n",
      "['tomato']\n",
      "['apple', 'banana', 'cherry', 'mango', 'tomato']\n"
     ]
    }
   ],
   "source": [
    "x = list((\"apple\", \"banana\", \"cherry\", \"mango\",'tomato')) # create a list\n",
    "print(x[0:5]) # Whole list, prints [1,2,3,4,5]\n",
    "print(x[1:5])\n",
    "print(x[4:5])\n",
    "print(x[:])"
   ]
  },
  {
   "cell_type": "code",
   "execution_count": 69,
   "id": "316381fc",
   "metadata": {},
   "outputs": [],
   "source": [
    "# Note that the last example[:] is often used to create duplicate lists. \n",
    "#Remember that new_list = old_list just creates a reference to old_list, but creates a copy of the old_list."
   ]
  },
  {
   "cell_type": "code",
   "execution_count": 71,
   "id": "b7922ed8",
   "metadata": {},
   "outputs": [
    {
     "data": {
      "text/plain": [
       "['apple', 'banana', 'cherry', 'mango', 'tomato']"
      ]
     },
     "execution_count": 71,
     "metadata": {},
     "output_type": "execute_result"
    }
   ],
   "source": [
    "x_new = x[:]\n",
    "x_new"
   ]
  },
  {
   "cell_type": "code",
   "execution_count": 94,
   "id": "7d99f6f1",
   "metadata": {},
   "outputs": [
    {
     "name": "stdout",
     "output_type": "stream",
     "text": [
      "['tomato']\n",
      "['apple', 'banana', 'cherry']\n",
      "['mango', 'tomato']\n",
      "['apple', 'banana', 'cherry', 'mango', 'tomato']\n",
      "['tomato', 'mango', 'cherry', 'banana', 'apple']\n",
      "['apple', 'cherry']\n"
     ]
    }
   ],
   "source": [
    "x = list((\"apple\", \"banana\", \"cherry\", \"mango\",'tomato')) # indexies is always from left to right\n",
    "print(x[-1:])\n",
    "print(x[:-2])\n",
    "print(x[-2:])\n",
    "print(x[:])\n",
    "print(x[::-1]) #I reverse the list order\n",
    "print(x[:-1:2]) #it will count on -1 as start "
   ]
  },
  {
   "cell_type": "code",
   "execution_count": 92,
   "id": "6ba0e985",
   "metadata": {},
   "outputs": [],
   "source": [
    "my_list = range(100) \n"
   ]
  },
  {
   "cell_type": "code",
   "execution_count": 93,
   "id": "c37119ca",
   "metadata": {},
   "outputs": [
    {
     "data": {
      "text/plain": [
       "range(0, 100)"
      ]
     },
     "execution_count": 93,
     "metadata": {},
     "output_type": "execute_result"
    }
   ],
   "source": [
    "my_list"
   ]
  },
  {
   "cell_type": "code",
   "execution_count": null,
   "id": "0495b6d5",
   "metadata": {},
   "outputs": [],
   "source": [
    "#Tupple"
   ]
  }
 ],
 "metadata": {
  "kernelspec": {
   "display_name": "Python 3 (ipykernel)",
   "language": "python",
   "name": "python3"
  },
  "language_info": {
   "codemirror_mode": {
    "name": "ipython",
    "version": 3
   },
   "file_extension": ".py",
   "mimetype": "text/x-python",
   "name": "python",
   "nbconvert_exporter": "python",
   "pygments_lexer": "ipython3",
   "version": "3.9.7"
  }
 },
 "nbformat": 4,
 "nbformat_minor": 5
}
